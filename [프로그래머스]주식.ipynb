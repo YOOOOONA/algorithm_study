{
 "cells": [
  {
   "cell_type": "code",
   "execution_count": null,
   "metadata": {},
   "outputs": [],
   "source": [
    "def solution(prices):\n",
    "    answer = [0 for i in range(len(prices))]\n",
    "    l=len(prices)\n",
    "    for i in range(l):\n",
    "        for j in range(i+1,l):\n",
    "            if prices[i]<=prices[j]:\n",
    "                answer[i]+=1\n",
    "            else:\n",
    "                if j!=l-1:\n",
    "                    answer[i]+=1\n",
    "                    break\n",
    "\n",
    "    return answer\n",
    "solution([1,2,3,4,5])\n",
    "solution([])"
   ]
  }
 ],
 "metadata": {
  "kernelspec": {
   "display_name": "Python 3",
   "language": "python",
   "name": "python3"
  },
  "language_info": {
   "codemirror_mode": {
    "name": "ipython",
    "version": 3
   },
   "file_extension": ".py",
   "mimetype": "text/x-python",
   "name": "python",
   "nbconvert_exporter": "python",
   "pygments_lexer": "ipython3",
   "version": "3.6.10"
  }
 },
 "nbformat": 4,
 "nbformat_minor": 2
}
