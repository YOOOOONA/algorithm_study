{
 "cells": [
  {
   "cell_type": "code",
   "execution_count": 1,
   "metadata": {},
   "outputs": [
    {
     "name": "stdout",
     "output_type": "stream",
     "text": [
      "입력1 2\n"
     ]
    }
   ],
   "source": [
    "n,m=map(int,input(\"입력\").split())"
   ]
  },
  {
   "cell_type": "code",
   "execution_count": 4,
   "metadata": {},
   "outputs": [
    {
     "ename": "ValueError",
     "evalue": "not enough values to unpack (expected 2, got 0)",
     "output_type": "error",
     "traceback": [
      "\u001b[1;31m---------------------------------------------------------------------------\u001b[0m",
      "\u001b[1;31mValueError\u001b[0m                                Traceback (most recent call last)",
      "\u001b[1;32m<ipython-input-4-aaecb45f9810>\u001b[0m in \u001b[0;36m<module>\u001b[1;34m\u001b[0m\n\u001b[0;32m      4\u001b[0m \u001b[1;31m#n=input('dsf')\u001b[0m\u001b[1;33m\u001b[0m\u001b[1;33m\u001b[0m\u001b[1;33m\u001b[0m\u001b[0m\n\u001b[0;32m      5\u001b[0m \u001b[1;31m#input=sys.stdin.readline\u001b[0m\u001b[1;33m\u001b[0m\u001b[1;33m\u001b[0m\u001b[1;33m\u001b[0m\u001b[0m\n\u001b[1;32m----> 6\u001b[1;33m \u001b[0mn\u001b[0m\u001b[1;33m,\u001b[0m \u001b[0mm\u001b[0m \u001b[1;33m=\u001b[0m \u001b[0mmap\u001b[0m\u001b[1;33m(\u001b[0m\u001b[0mint\u001b[0m\u001b[1;33m,\u001b[0m \u001b[0minput\u001b[0m\u001b[1;33m(\u001b[0m\u001b[1;33m)\u001b[0m\u001b[1;33m.\u001b[0m\u001b[0msplit\u001b[0m\u001b[1;33m(\u001b[0m\u001b[1;33m)\u001b[0m\u001b[1;33m)\u001b[0m\u001b[1;33m\u001b[0m\u001b[1;33m\u001b[0m\u001b[0m\n\u001b[0m\u001b[0;32m      7\u001b[0m \"\"\"\n\u001b[0;32m      8\u001b[0m \u001b[0mstart\u001b[0m \u001b[1;33m=\u001b[0m \u001b[0mint\u001b[0m\u001b[1;33m(\u001b[0m\u001b[0minput\u001b[0m\u001b[1;33m(\u001b[0m\u001b[1;33m)\u001b[0m\u001b[1;33m)\u001b[0m\u001b[1;33m\u001b[0m\u001b[1;33m\u001b[0m\u001b[0m\n",
      "\u001b[1;31mValueError\u001b[0m: not enough values to unpack (expected 2, got 0)"
     ]
    }
   ],
   "source": [
    "import queue as Q\n",
    "import sys\n",
    " \n",
    "#n=input('dsf')\n",
    "#input=sys.stdin.readline \n",
    "n, m = map(int, input().split())\n",
    "\"\"\"\n",
    "start = int(input())\n",
    " \n",
    "adj = [[] for i in range (n+1)]\n",
    "DIST = [1e9]*(n+1)\n",
    " \n",
    " \n",
    "def dijkstra(src):\n",
    " \n",
    "    q = Q.PriorityQueue()\n",
    "    q.put((0, src))\n",
    "    DIST[src]=0\n",
    " \n",
    "    while not q.empty():\n",
    "        pp = q.get()\n",
    "        here = pp[1]\n",
    "        dist = pp[0]\n",
    " \n",
    "        if DIST[here] < dist:\n",
    "            continue\n",
    " \n",
    "        for i in adj[here]:\n",
    "            cost = dist + i[1]\n",
    "            if DIST[i[0]] > cost:\n",
    "                DIST[i[0]] = cost\n",
    "                q.put((cost, i[0]))\n",
    " \n",
    " \n",
    "while m:\n",
    "    m -= 1\n",
    "    a, b, c = map(int, input().split())\n",
    "    adj[a].append((b, c))\n",
    " \n",
    "dijkstra(start)\n",
    " \n",
    "for i in range (1,n+1):\n",
    "    if DIST[i] is 1e9:\n",
    "        print(\"INF\")\n",
    "    else:\n",
    "        print(DIST[i])\n",
    "\"\"\""
   ]
  },
  {
   "cell_type": "code",
   "execution_count": null,
   "metadata": {},
   "outputs": [],
   "source": []
  }
 ],
 "metadata": {
  "kernelspec": {
   "display_name": "Python 3",
   "language": "python",
   "name": "python3"
  },
  "language_info": {
   "codemirror_mode": {
    "name": "ipython",
    "version": 3
   },
   "file_extension": ".py",
   "mimetype": "text/x-python",
   "name": "python",
   "nbconvert_exporter": "python",
   "pygments_lexer": "ipython3",
   "version": "3.7.1"
  }
 },
 "nbformat": 4,
 "nbformat_minor": 2
}
