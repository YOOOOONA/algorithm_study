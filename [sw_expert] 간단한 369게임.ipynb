{
 "cells": [
  {
   "cell_type": "code",
   "execution_count": null,
   "metadata": {},
   "outputs": [],
   "source": [
    "#369게임\n",
    "#input 33 일 때 output은 1 2 - 4 5 - ...28 - - - - -- 임\n",
    "T = int(input())\n",
    "# 여러개의 테스트 케이스가 주어지므로, 각각을 처리합니다.\n",
    "for test_case in range(1, T + 1):\n",
    "    cnt=0\n",
    "    i=str(test_case)\n",
    "    if '3' in i or '6' in i or '9' in i:\n",
    "        for j in i:\n",
    "            if j=='3' or j=='6' or j=='9':\n",
    "                cnt+=1\n",
    "        for k in range(cnt):\n",
    "            print(\"-\",end='')\n",
    "    else:\n",
    "        print(i,end='')\n",
    "    print(\" \",end='')"
   ]
  }
 ],
 "metadata": {
  "kernelspec": {
   "display_name": "Python 3",
   "language": "python",
   "name": "python3"
  },
  "language_info": {
   "codemirror_mode": {
    "name": "ipython",
    "version": 3
   },
   "file_extension": ".py",
   "mimetype": "text/x-python",
   "name": "python",
   "nbconvert_exporter": "python",
   "pygments_lexer": "ipython3",
   "version": "3.7.4"
  }
 },
 "nbformat": 4,
 "nbformat_minor": 2
}
