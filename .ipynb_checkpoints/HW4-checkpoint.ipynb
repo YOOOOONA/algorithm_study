{
 "cells": [
  {
   "cell_type": "code",
   "execution_count": 5,
   "metadata": {},
   "outputs": [
    {
     "name": "stdout",
     "output_type": "stream",
     "text": [
      "13는 소수입니다.\n",
      "15는 소수가 아닙니다.\n"
     ]
    }
   ],
   "source": [
    "#과제1-prime.py\n",
    "def check_prime(num):\n",
    "    for i in range(2,num):\n",
    "        if num%i==0:\n",
    "            return False\n",
    "    return True\n",
    "def main():\n",
    "    a=13\n",
    "    b=15\n",
    "    if check_prime(a):\n",
    "        print(str(a)+'는 소수입니다.')\n",
    "    else:\n",
    "        print(str(a)+'는 소수가 아닙니다.')\n",
    "    if check_prime(b):\n",
    "        print(str(b)+'는 소수입니다.')\n",
    "    else:\n",
    "        print(str(b)+'는 소수가 아닙니다.')\n",
    "main()"
   ]
  },
  {
   "cell_type": "code",
   "execution_count": 8,
   "metadata": {},
   "outputs": [
    {
     "name": "stdout",
     "output_type": "stream",
     "text": [
      "1,234\n",
      "12,345,678\n",
      "12\n"
     ]
    }
   ],
   "source": [
    "#과제2-add_comma.py\n",
    "def add_comma(val):\n",
    "    val=str(val)\n",
    "    added=''\n",
    "    cnt=0\n",
    "    l=len(val)\n",
    "    for i in range(l):\n",
    "        cnt+=1\n",
    "        added=val[l-i-1]+added\n",
    "        if(cnt%3==0):\n",
    "            added=','+added\n",
    "            \n",
    "    return added\n",
    "    \n",
    "        \n",
    "def main():\n",
    "    comma_added_1234=add_comma(1234)\n",
    "    comma_added_12345678=add_comma(12345678)\n",
    "    comma_added_12=add_comma(12)\n",
    "    \n",
    "    print(comma_added_1234)\n",
    "    print(comma_added_12345678)\n",
    "    print(comma_added_12)\n",
    "main()"
   ]
  },
  {
   "cell_type": "code",
   "execution_count": 23,
   "metadata": {},
   "outputs": [
    {
     "name": "stdout",
     "output_type": "stream",
     "text": [
      "['There', 'was', 'a', 'farmer', 'who', 'had', 'a', 'dog.']\n",
      "['There was', 'was a', 'a farmer', 'farmer who', 'who had', 'had a', 'a dog.']\n"
     ]
    }
   ],
   "source": [
    "#과제3-tok.py\n",
    "def tokenize(trg,N=1):\n",
    "    trg=trg.split()\n",
    "    li=[]\n",
    "    \n",
    "    for i in range(len(trg)-N+1):\n",
    "        a=' '.join(trg[i:i+N])\n",
    "        li.append(a)\n",
    "        #print(a)\n",
    "    \n",
    "    return li\n",
    "def main():\n",
    "    a=\"There was a farmer who had a dog.\"\n",
    "    print(tokenize(a))\n",
    "    print(tokenize(a,2))\n",
    "\n",
    "main()\n",
    "    "
   ]
  },
  {
   "cell_type": "code",
   "execution_count": 87,
   "metadata": {},
   "outputs": [
    {
     "name": "stdout",
     "output_type": "stream",
     "text": [
      "평균: [0.5, 0.5] 분산: [0.16666666666666666, 0.16666666666666666]\n"
     ]
    }
   ],
   "source": [
    "import numpy as np\n",
    "#과제4-mean_and_var.py\n",
    "def mean_and_var(*val):\n",
    "    l=len(val)#3\n",
    "    m=[sum(i)/l for i in zip(*val)]\n",
    "    val=np.array(val)\n",
    "    a=0\n",
    "    b=0\n",
    "    for i in range(l):\n",
    "        a+=(val[i][0]-m[0])**2\n",
    "        b+=(val[i][1]-m[1])**2\n",
    "    var=[a/l,b/l]\n",
    "        \n",
    "    return m,var\n",
    "def main():\n",
    "    v1=(0,1)\n",
    "    v2=(0.5,0.5)\n",
    "    v3=(1,0)\n",
    "    \n",
    "    m,var=mean_and_var(v1,v2,v3)\n",
    "    print('평균:',m,'분산:',var)\n",
    "main()"
   ]
  },
  {
   "cell_type": "code",
   "execution_count": 32,
   "metadata": {},
   "outputs": [
    {
     "name": "stdout",
     "output_type": "stream",
     "text": [
      "1\n",
      "2\n",
      "3\n",
      "4\n"
     ]
    }
   ],
   "source": [
    "def a(*val):\n",
    "    for i in val:\n",
    "        print(i)\n",
    "        #return val-1\n",
    "a(1,2,3,4)"
   ]
  },
  {
   "cell_type": "code",
   "execution_count": 41,
   "metadata": {},
   "outputs": [
    {
     "data": {
      "text/plain": [
       "6"
      ]
     },
     "execution_count": 41,
     "metadata": {},
     "output_type": "execute_result"
    }
   ],
   "source": [
    "a=(1,2,3)\n",
    "sum(a)"
   ]
  },
  {
   "cell_type": "code",
   "execution_count": 28,
   "metadata": {},
   "outputs": [
    {
     "name": "stdout",
     "output_type": "stream",
     "text": [
      "c [1, 2, 3, 4]\n",
      "d [1]\n",
      "e [2, 3]\n"
     ]
    }
   ],
   "source": [
    "#과제1-set.py\n",
    "class Set:\n",
    "    def __init__(self,member=[]):\n",
    "        self.member=member\n",
    "    def append(self, a):\n",
    "        if a not in self.member:\n",
    "            self.member.append(a)\n",
    "        return self.member\n",
    "    def delete(self, a):\n",
    "        self.member.remove(a)\n",
    "        return self.member\n",
    "    def union(self, s2):\n",
    "        li=[]\n",
    "        for i in self.member:\n",
    "            li.append(i)\n",
    "        for i in s2.member:\n",
    "            if i not in li:\n",
    "                li.append(i)\n",
    "        #print(\"이게\",li,self.member)\n",
    "        return li\n",
    "    \n",
    "    def intersection(self, s2):\n",
    "        li=[]\n",
    "        for i in self.member:\n",
    "            if i in s2.member:\n",
    "                li.append(i)\n",
    "        return li\n",
    "    def difference(self,s2):\n",
    "        li=[]\n",
    "        for i in self.member:\n",
    "            if i not in s2.member:#S2또한 객체이므로 S2.member라고 받아야함을 잊지말기\n",
    "                li.append(i)\n",
    "        return li\n",
    "a=Set([1,2,3])\n",
    "b=Set([2,3,4])\n",
    "\n",
    "c=a.union(b)#1234\n",
    "print(\"c\",c)\n",
    "d=a.difference(b)#1\n",
    "print(\"d\",d)\n",
    "e=a.intersection(b)#23\n",
    "print(\"e\",e)"
   ]
  },
  {
   "cell_type": "code",
   "execution_count": 55,
   "metadata": {},
   "outputs": [
    {
     "data": {
      "text/plain": [
       "{1}"
      ]
     },
     "execution_count": 55,
     "metadata": {},
     "output_type": "execute_result"
    }
   ],
   "source": [
    "a=set([1])\n",
    "a.difference([2])"
   ]
  },
  {
   "cell_type": "code",
   "execution_count": 92,
   "metadata": {},
   "outputs": [],
   "source": [
    "# #과제2-people.py\n",
    "# class Person:\n",
    "#     def __init__(self, name,age,department):\n",
    "#         self.name=name\n",
    "#         self.age=age\n",
    "#         self.department=department\n",
    "#     def get_name(self):\n",
    "#         return self.name\n",
    "    \n",
    "# class Student(Person):\n",
    "#     def __init__(self, name,age,department, s_id, gpa, advisor=''):\n",
    "#         super.__init__(self,Student.name,Student.age,Student.department)\n",
    "#         self.s_id=s_id\n",
    "#         self.gpa=gpa\n",
    "#         self.advisor=advisor.name\n",
    "#         Person.__init__(self,s_id=s_id,gpa=gpa,advisor=advisor)\n",
    "#     def print_info(self):\n",
    "#         print('제 이름은',self.name, ', 나이는',self.age, ', 학과는',self.department,', 지도교수님은',self.advisor,'입니다.')\n",
    "#     def reg_advisor(self, advisor):\n",
    "#         #교수등록\n",
    "#         self.advisor=advisor\n",
    "# class Professor(Person):\n",
    "#     def __init__(self, name,age,department,position,laboratory,student):\n",
    "#         self.position=position\n",
    "#         self.laboratory=laboratory\n",
    "#         self.student=','+student.name\n",
    "#     def print_info(self):\n",
    "#         print('제 이름은',self.name, ', 나이는',self.age, ', 학과는',self.department,', 지도학생은',self.student,'입니다.')\n",
    "#     def reg_studnet(self,student):\n",
    "#         self.student=student\n",
    "# stu1=Student('Kim',30,'Computer',20001234,4.5)\n",
    "# stu2=Student('Lee',22,'Computer',20101234,0.5)\n",
    "# prof1=Professor('Lee',55,'Computer','Full','KLE')\n",
    "\n",
    "# stu1.reg_advisor(prof1)\n",
    "# stu2.reg_advisor(prof1)\n",
    "# prof1.reg_student(stu1)\n",
    "# prof1.reg_student(stu2)\n",
    "\n",
    "# stu1.print_info()\n",
    "# stu2.print_info()\n",
    "# prof1.print_info()"
   ]
  },
  {
   "cell_type": "code",
   "execution_count": null,
   "metadata": {},
   "outputs": [],
   "source": []
  }
 ],
 "metadata": {
  "kernelspec": {
   "display_name": "Python 3",
   "language": "python",
   "name": "python3"
  },
  "language_info": {
   "codemirror_mode": {
    "name": "ipython",
    "version": 3
   },
   "file_extension": ".py",
   "mimetype": "text/x-python",
   "name": "python",
   "nbconvert_exporter": "python",
   "pygments_lexer": "ipython3",
   "version": "3.7.4"
  }
 },
 "nbformat": 4,
 "nbformat_minor": 2
}
