{
 "cells": [
  {
   "cell_type": "code",
   "execution_count": null,
   "metadata": {},
   "outputs": [],
   "source": [
    "tickets                                                            return\n",
    "[[ICN, JFK], [HND, IAD], [JFK, HND]]                               [ICN, JFK, HND, IAD]\n",
    "[[ICN, SFO], [ICN, ATL], [SFO, ATL], [ATL, ICN], [ATL,SFO]]        [ICN, ATL, ICN, SFO, ATL, SFO]"
   ]
  },
  {
   "cell_type": "code",
   "execution_count": 26,
   "metadata": {
    "scrolled": true
   },
   "outputs": [
    {
     "name": "stdout",
     "output_type": "stream",
     "text": [
      "비교: ICN JFK ['HND', 'IAD']\n",
      "비교: ICN JFK ['JFK', 'HND']\n",
      "['HND']\n",
      "['HND']\n",
      "HND\n",
      "HND\n",
      "['ICN', 'JFK', 'HND', 'IAD']\n",
      "1\n",
      "2\n"
     ]
    },
    {
     "data": {
      "text/plain": [
       "['ICN', 'JFK', 'HND', 'IAD']"
      ]
     },
     "execution_count": 26,
     "metadata": {},
     "output_type": "execute_result"
    }
   ],
   "source": [
    "def solution(tickets):\n",
    "    answer = []\n",
    "    pt,nt=tickets[0]\n",
    "    answer.extend(tickets[0])\n",
    "    tickets.pop(0)\n",
    "    \n",
    "    for k in range(len(tickets)-1):\n",
    "        nom=[]\n",
    "        t=0\n",
    "        \n",
    "        for i in range(len(tickets)):\n",
    "            print(\"비교:\",pt,nt,tickets[i])\n",
    "            if nt==tickets[i][0]:\n",
    "                #pt=nt\n",
    "                t=1\n",
    "                \n",
    "                nom.append(tickets[i][1])\n",
    "                print(nom)\n",
    "        if t==0:\n",
    "            nom.append(tickets[0][1])\n",
    "        print(nom)\n",
    "        nom.sort()\n",
    "        pt=nom[0]\n",
    "        answer.append(pt)\n",
    "        print(pt)\n",
    "        for j in tickets:\n",
    "            if pt==j[0]:\n",
    "                print(pt)\n",
    "                nt=j[1]\n",
    "                answer.append(nt)\n",
    "                print(answer)\n",
    "                tickets.remove(j)\n",
    "                print(1)\n",
    "                break\n",
    "        print('2')\n",
    "    return answer\n",
    "solution([[\"ICN\", \"JFK\"], [\"HND\", \"IAD\"], [\"JFK\", \"HND\"]] )#[ICN, JFK, HND, IAD]"
   ]
  },
  {
   "cell_type": "code",
   "execution_count": 47,
   "metadata": {},
   "outputs": [
    {
     "name": "stdout",
     "output_type": "stream",
     "text": [
      "pt는 ICN\n",
      "pt는 ICN\n",
      "['JFK']\n",
      "['JFK']\n",
      "[['HND', 'IAD'], ['JFK', 'HND']]\n",
      "pt는 ICN\n",
      "pt는 JFK\n",
      "pt는 JFK\n",
      "['HND']\n",
      "['HND']\n",
      "[['HND', 'IAD']]\n",
      "pt는 JFK\n",
      "pt는 HND\n"
     ]
    },
    {
     "data": {
      "text/plain": [
       "['ICN', 'JFK', 'HND', 'IAD']"
      ]
     },
     "execution_count": 47,
     "metadata": {},
     "output_type": "execute_result"
    }
   ],
   "source": [
    "def solution(tickets):\n",
    "    answer = []\n",
    "    n=True\n",
    "    \n",
    "    for i in range(len(tickets)+1):\n",
    "        nom=[]\n",
    "        if len(tickets)==1:\n",
    "            print(\"pt는\",tickets[0][0])\n",
    "            answer.extend(tickets[0])\n",
    "            return answer\n",
    "        if n:\n",
    "            pt=\"ICN\"\n",
    "            answer.append(pt)\n",
    "            print(\"pt는\",pt)\n",
    "            n=False\n",
    "        else:\n",
    "            pt=nt\n",
    "            print(\"pt는\",pt)\n",
    "            answer.append(pt)\n",
    "        for j in tickets:\n",
    "            if pt==j[0]:\n",
    "                print(\"pt는\",pt)\n",
    "                \n",
    "                nom.append(j[1])\n",
    "                print(nom)\n",
    "        nom.sort()\n",
    "        print(nom)\n",
    "        nt=nom[0]\n",
    "        tickets.remove([pt,nt])\n",
    "        print(tickets)\n",
    "        print(\"pt는\",pt)\n",
    "     \n",
    "    \n",
    "solution([[\"ICN\", \"JFK\"], [\"HND\", \"IAD\"], [\"JFK\", \"HND\"]] )#[ICN, JFK, HND, IAD]"
   ]
  },
  {
   "cell_type": "code",
   "execution_count": 48,
   "metadata": {},
   "outputs": [
    {
     "name": "stdout",
     "output_type": "stream",
     "text": [
      "pt는 ICN\n",
      "pt는 ICN\n",
      "['SFO']\n",
      "pt는 ICN\n",
      "['SFO', 'ATL']\n",
      "['ATL', 'SFO']\n",
      "[['ICN', 'SFO'], ['SFO', 'ATL'], ['ATL', 'ICN'], ['ATL', 'SFO']]\n",
      "pt는 ICN\n",
      "pt는 ATL\n",
      "pt는 ATL\n",
      "['ICN']\n",
      "pt는 ATL\n",
      "['ICN', 'SFO']\n",
      "['ICN', 'SFO']\n",
      "[['ICN', 'SFO'], ['SFO', 'ATL'], ['ATL', 'SFO']]\n",
      "pt는 ATL\n",
      "pt는 ICN\n",
      "pt는 ICN\n",
      "['SFO']\n",
      "['SFO']\n",
      "[['SFO', 'ATL'], ['ATL', 'SFO']]\n",
      "pt는 ICN\n",
      "pt는 SFO\n",
      "pt는 SFO\n",
      "['ATL']\n",
      "['ATL']\n",
      "[['ATL', 'SFO']]\n",
      "pt는 SFO\n",
      "pt는 ATL\n"
     ]
    },
    {
     "data": {
      "text/plain": [
       "['ICN', 'ATL', 'ICN', 'SFO', 'ATL', 'SFO']"
      ]
     },
     "execution_count": 48,
     "metadata": {},
     "output_type": "execute_result"
    }
   ],
   "source": [
    "solution([[\"ICN\", \"SFO\"], [\"ICN\", \"ATL\"], [\"SFO\", \"ATL\"], [\"ATL\", \"ICN\"], [\"ATL\",\"SFO\"]])#[ICN, ATL, ICN, SFO, ATL, SFO]"
   ]
  },
  {
   "cell_type": "code",
   "execution_count": 34,
   "metadata": {},
   "outputs": [
    {
     "name": "stdout",
     "output_type": "stream",
     "text": [
      "[['ICN', 'ATL'], ['SFO', 'ATL'], ['ATL', 'ICN'], ['ATL', 'SFO']]\n"
     ]
    }
   ],
   "source": [
    "tickets= [[\"ICN\", \"SFO\"], [\"ICN\", \"ATL\"], [\"SFO\", \"ATL\"], [\"ATL\", \"ICN\"], [\"ATL\",\"SFO\"]]\n",
    "pt=\"ICN\"\n",
    "nt=\"SFO\"\n",
    "tickets.remove([pt,nt])\n",
    "print(tickets)"
   ]
  },
  {
   "cell_type": "code",
   "execution_count": null,
   "metadata": {},
   "outputs": [],
   "source": []
  }
 ],
 "metadata": {
  "kernelspec": {
   "display_name": "Python 3",
   "language": "python",
   "name": "python3"
  },
  "language_info": {
   "codemirror_mode": {
    "name": "ipython",
    "version": 3
   },
   "file_extension": ".py",
   "mimetype": "text/x-python",
   "name": "python",
   "nbconvert_exporter": "python",
   "pygments_lexer": "ipython3",
   "version": "3.7.4"
  }
 },
 "nbformat": 4,
 "nbformat_minor": 2
}
