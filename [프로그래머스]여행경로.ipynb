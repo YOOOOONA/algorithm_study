{
 "cells": [
  {
   "cell_type": "code",
   "execution_count": null,
   "metadata": {},
   "outputs": [],
   "source": [
    "tickets                                                            return\n",
    "[[ICN, JFK], [HND, IAD], [JFK, HND]]                               [ICN, JFK, HND, IAD]\n",
    "[[ICN, SFO], [ICN, ATL], [SFO, ATL], [ATL, ICN], [ATL,SFO]]        [ICN, ATL, ICN, SFO, ATL, SFO]"
   ]
  },
  {
   "cell_type": "code",
   "execution_count": 26,
   "metadata": {
    "scrolled": true
   },
   "outputs": [
    {
     "name": "stdout",
     "output_type": "stream",
     "text": [
      "비교: ICN JFK ['HND', 'IAD']\n",
      "비교: ICN JFK ['JFK', 'HND']\n",
      "['HND']\n",
      "['HND']\n",
      "HND\n",
      "HND\n",
      "['ICN', 'JFK', 'HND', 'IAD']\n",
      "1\n",
      "2\n"
     ]
    },
    {
     "data": {
      "text/plain": [
       "['ICN', 'JFK', 'HND', 'IAD']"
      ]
     },
     "execution_count": 26,
     "metadata": {},
     "output_type": "execute_result"
    }
   ],
   "source": [
    "def solution(tickets):\n",
    "    answer = []\n",
    "    pt,nt=tickets[0]\n",
    "    answer.extend(tickets[0])\n",
    "    tickets.pop(0)\n",
    "    \n",
    "    for k in range(len(tickets)-1):\n",
    "        nom=[]\n",
    "        t=0\n",
    "        \n",
    "        for i in range(len(tickets)):\n",
    "            print(\"비교:\",pt,nt,tickets[i])\n",
    "            if nt==tickets[i][0]:\n",
    "                #pt=nt\n",
    "                t=1\n",
    "                \n",
    "                nom.append(tickets[i][1])\n",
    "                print(nom)\n",
    "        if t==0:\n",
    "            nom.append(tickets[0][1])\n",
    "        print(nom)\n",
    "        nom.sort()\n",
    "        pt=nom[0]\n",
    "        answer.append(pt)\n",
    "        print(pt)\n",
    "        for j in tickets:\n",
    "            if pt==j[0]:\n",
    "                print(pt)\n",
    "                nt=j[1]\n",
    "                answer.append(nt)\n",
    "                print(answer)\n",
    "                tickets.remove(j)\n",
    "                print(1)\n",
    "                break\n",
    "        print('2')\n",
    "    return answer\n",
    "solution([[\"ICN\", \"JFK\"], [\"HND\", \"IAD\"], [\"JFK\", \"HND\"]] )#[ICN, JFK, HND, IAD]"
   ]
  },
  {
   "cell_type": "code",
   "execution_count": 50,
   "metadata": {},
   "outputs": [
    {
     "name": "stdout",
     "output_type": "stream",
     "text": [
      "pt는 ICN\n",
      "pt는 ICN\n",
      "['JFK']\n",
      "['JFK']\n",
      "[['HND', 'IAD'], ['JFK', 'HND']]\n",
      "pt는 ICN\n",
      "pt는 JFK\n",
      "pt는 JFK\n",
      "['HND']\n",
      "['HND']\n",
      "[['HND', 'IAD']]\n",
      "pt는 JFK\n",
      "pt는 HND\n"
     ]
    },
    {
     "data": {
      "text/plain": [
       "['ICN', 'JFK', 'HND', 'IAD']"
      ]
     },
     "execution_count": 50,
     "metadata": {},
     "output_type": "execute_result"
    }
   ],
   "source": [
    "def solution(tickets):\n",
    "    answer = []\n",
    "    n=True\n",
    "    \n",
    "    for i in range(len(tickets)+1):\n",
    "        nom=[]\n",
    "        if len(tickets)==1:\n",
    "            print(\"pt는\",tickets[0][0])\n",
    "            answer.extend(tickets[0])\n",
    "            return answer\n",
    "        if n:\n",
    "            pt=\"ICN\"\n",
    "            answer.append(pt)\n",
    "            print(\"pt는\",pt)\n",
    "            n=False\n",
    "        else:\n",
    "            pt=nt\n",
    "            print(\"pt는\",pt)\n",
    "            answer.append(pt)\n",
    "        for j in tickets:\n",
    "            if pt==j[0]:\n",
    "                print(\"pt는\",pt)\n",
    "                \n",
    "                nom.append(j[1])\n",
    "                print(nom)\n",
    "        nom.sort()\n",
    "        print(nom)\n",
    "        nt=nom[0]\n",
    "        tickets.remove([pt,nt])\n",
    "        print(tickets)\n",
    "        print(\"pt는\",pt)\n",
    "     \n",
    "    print(answer)\n",
    "solution([[\"ICN\", \"JFK\"], [\"HND\", \"IAD\"], [\"JFK\", \"HND\"]] )#[ICN, JFK, HND, IAD]"
   ]
  },
  {
   "cell_type": "code",
   "execution_count": 48,
   "metadata": {},
   "outputs": [
    {
     "name": "stdout",
     "output_type": "stream",
     "text": [
      "pt는 ICN\n",
      "pt는 ICN\n",
      "['SFO']\n",
      "pt는 ICN\n",
      "['SFO', 'ATL']\n",
      "['ATL', 'SFO']\n",
      "[['ICN', 'SFO'], ['SFO', 'ATL'], ['ATL', 'ICN'], ['ATL', 'SFO']]\n",
      "pt는 ICN\n",
      "pt는 ATL\n",
      "pt는 ATL\n",
      "['ICN']\n",
      "pt는 ATL\n",
      "['ICN', 'SFO']\n",
      "['ICN', 'SFO']\n",
      "[['ICN', 'SFO'], ['SFO', 'ATL'], ['ATL', 'SFO']]\n",
      "pt는 ATL\n",
      "pt는 ICN\n",
      "pt는 ICN\n",
      "['SFO']\n",
      "['SFO']\n",
      "[['SFO', 'ATL'], ['ATL', 'SFO']]\n",
      "pt는 ICN\n",
      "pt는 SFO\n",
      "pt는 SFO\n",
      "['ATL']\n",
      "['ATL']\n",
      "[['ATL', 'SFO']]\n",
      "pt는 SFO\n",
      "pt는 ATL\n"
     ]
    },
    {
     "data": {
      "text/plain": [
       "['ICN', 'ATL', 'ICN', 'SFO', 'ATL', 'SFO']"
      ]
     },
     "execution_count": 48,
     "metadata": {},
     "output_type": "execute_result"
    }
   ],
   "source": [
    "solution([[\"ICN\", \"SFO\"], [\"ICN\", \"ATL\"], [\"SFO\", \"ATL\"], [\"ATL\", \"ICN\"], [\"ATL\",\"SFO\"]])#[ICN, ATL, ICN, SFO, ATL, SFO]"
   ]
  },
  {
   "cell_type": "code",
   "execution_count": 34,
   "metadata": {},
   "outputs": [
    {
     "name": "stdout",
     "output_type": "stream",
     "text": [
      "[['ICN', 'ATL'], ['SFO', 'ATL'], ['ATL', 'ICN'], ['ATL', 'SFO']]\n"
     ]
    }
   ],
   "source": [
    "tickets= [[\"ICN\", \"SFO\"], [\"ICN\", \"ATL\"], [\"SFO\", \"ATL\"], [\"ATL\", \"ICN\"], [\"ATL\",\"SFO\"]]\n",
    "pt=\"ICN\"\n",
    "nt=\"SFO\"\n",
    "tickets.remove([pt,nt])\n",
    "print(tickets)"
   ]
  },
  {
   "cell_type": "code",
   "execution_count": 51,
   "metadata": {},
   "outputs": [
    {
     "name": "stdout",
     "output_type": "stream",
     "text": [
      "pt는 ICN\n",
      "pt는 ICN\n",
      "['COO']\n",
      "pt는 ICN\n",
      "['COO', 'BOO']\n",
      "pt는 ICN\n",
      "['COO', 'BOO', 'COO']\n",
      "['BOO', 'COO', 'COO']\n",
      "[['ICN', 'COO'], ['ICN', 'COO']]\n",
      "pt는 ICN\n",
      "pt는 BOO\n",
      "[]\n"
     ]
    },
    {
     "ename": "IndexError",
     "evalue": "list index out of range",
     "output_type": "error",
     "traceback": [
      "\u001b[1;31m---------------------------------------------------------------------------\u001b[0m",
      "\u001b[1;31mIndexError\u001b[0m                                Traceback (most recent call last)",
      "\u001b[1;32m<ipython-input-51-707a8c5d6c28>\u001b[0m in \u001b[0;36m<module>\u001b[1;34m\u001b[0m\n\u001b[0;32m      1\u001b[0m \u001b[1;31m#{ICN, COO}, {ICN, BOO}, {ICN, COO}\u001b[0m\u001b[1;33m\u001b[0m\u001b[1;33m\u001b[0m\u001b[1;33m\u001b[0m\u001b[0m\n\u001b[1;32m----> 2\u001b[1;33m \u001b[0msolution\u001b[0m\u001b[1;33m(\u001b[0m\u001b[1;33m[\u001b[0m\u001b[1;33m[\u001b[0m\u001b[1;34m\"ICN\"\u001b[0m\u001b[1;33m,\u001b[0m\u001b[1;34m\"COO\"\u001b[0m\u001b[1;33m]\u001b[0m\u001b[1;33m,\u001b[0m\u001b[1;33m[\u001b[0m\u001b[1;34m\"ICN\"\u001b[0m\u001b[1;33m,\u001b[0m\u001b[1;34m\"BOO\"\u001b[0m\u001b[1;33m]\u001b[0m\u001b[1;33m,\u001b[0m\u001b[1;33m[\u001b[0m\u001b[1;34m\"ICN\"\u001b[0m\u001b[1;33m,\u001b[0m\u001b[1;34m\"COO\"\u001b[0m\u001b[1;33m]\u001b[0m\u001b[1;33m]\u001b[0m\u001b[1;33m)\u001b[0m\u001b[1;31m#{ICN, COO} <-중복 2개 인 케이스 중복 제거 적용\u001b[0m\u001b[1;33m\u001b[0m\u001b[1;33m\u001b[0m\u001b[0m\n\u001b[0m",
      "\u001b[1;32m<ipython-input-50-0a802ebe75d7>\u001b[0m in \u001b[0;36msolution\u001b[1;34m(tickets)\u001b[0m\n\u001b[0;32m     26\u001b[0m         \u001b[0mnom\u001b[0m\u001b[1;33m.\u001b[0m\u001b[0msort\u001b[0m\u001b[1;33m(\u001b[0m\u001b[1;33m)\u001b[0m\u001b[1;33m\u001b[0m\u001b[1;33m\u001b[0m\u001b[0m\n\u001b[0;32m     27\u001b[0m         \u001b[0mprint\u001b[0m\u001b[1;33m(\u001b[0m\u001b[0mnom\u001b[0m\u001b[1;33m)\u001b[0m\u001b[1;33m\u001b[0m\u001b[1;33m\u001b[0m\u001b[0m\n\u001b[1;32m---> 28\u001b[1;33m         \u001b[0mnt\u001b[0m\u001b[1;33m=\u001b[0m\u001b[0mnom\u001b[0m\u001b[1;33m[\u001b[0m\u001b[1;36m0\u001b[0m\u001b[1;33m]\u001b[0m\u001b[1;33m\u001b[0m\u001b[1;33m\u001b[0m\u001b[0m\n\u001b[0m\u001b[0;32m     29\u001b[0m         \u001b[0mtickets\u001b[0m\u001b[1;33m.\u001b[0m\u001b[0mremove\u001b[0m\u001b[1;33m(\u001b[0m\u001b[1;33m[\u001b[0m\u001b[0mpt\u001b[0m\u001b[1;33m,\u001b[0m\u001b[0mnt\u001b[0m\u001b[1;33m]\u001b[0m\u001b[1;33m)\u001b[0m\u001b[1;33m\u001b[0m\u001b[1;33m\u001b[0m\u001b[0m\n\u001b[0;32m     30\u001b[0m         \u001b[0mprint\u001b[0m\u001b[1;33m(\u001b[0m\u001b[0mtickets\u001b[0m\u001b[1;33m)\u001b[0m\u001b[1;33m\u001b[0m\u001b[1;33m\u001b[0m\u001b[0m\n",
      "\u001b[1;31mIndexError\u001b[0m: list index out of range"
     ]
    }
   ],
   "source": [
    "#{ICN, COO}, {ICN, BOO}, {ICN, COO}\n",
    "solution([[\"ICN\",\"COO\"],[\"ICN\",\"BOO\"],[\"ICN\",\"COO\"]])#{ICN, COO} <-중복 2개 인 케이스 중복 제거 적용"
   ]
  },
  {
   "cell_type": "code",
   "execution_count": 55,
   "metadata": {},
   "outputs": [
    {
     "ename": "TypeError",
     "evalue": "unhashable type: 'set'",
     "output_type": "error",
     "traceback": [
      "\u001b[1;31m---------------------------------------------------------------------------\u001b[0m",
      "\u001b[1;31mTypeError\u001b[0m                                 Traceback (most recent call last)",
      "\u001b[1;32m<ipython-input-55-9be8a9ec4ab1>\u001b[0m in \u001b[0;36m<module>\u001b[1;34m\u001b[0m\n\u001b[0;32m      4\u001b[0m \u001b[1;31m#{ICN , COO , ICN ,BOO ,DOO } -> 알파벳 오름차순에서 후순위지만 모든 공황 통과 라서 선택됨\u001b[0m\u001b[1;33m\u001b[0m\u001b[1;33m\u001b[0m\u001b[1;33m\u001b[0m\u001b[0m\n\u001b[0;32m      5\u001b[0m \u001b[1;31m#{ICN , BOO , DOO } -> 알파벳 오름차순에서 B00 가 있어 이게 선택되어야 하지만 모든 공항을 거치지 않아서 탈\u001b[0m\u001b[1;33m\u001b[0m\u001b[1;33m\u001b[0m\u001b[1;33m\u001b[0m\u001b[0m\n\u001b[1;32m----> 6\u001b[1;33m \u001b[0ma\u001b[0m\u001b[1;33m=\u001b[0m\u001b[0mset\u001b[0m\u001b[1;33m(\u001b[0m\u001b[1;33m{\u001b[0m\u001b[1;33m{\u001b[0m\u001b[1;34m\"ICN\"\u001b[0m\u001b[1;33m,\u001b[0m\u001b[1;34m\"COO\"\u001b[0m\u001b[1;33m}\u001b[0m\u001b[1;33m,\u001b[0m\u001b[1;33m{\u001b[0m\u001b[1;34m\"ICN\"\u001b[0m\u001b[1;33m,\u001b[0m\u001b[1;34m\"BOO\"\u001b[0m\u001b[1;33m}\u001b[0m\u001b[1;33m,\u001b[0m\u001b[1;33m{\u001b[0m\u001b[1;34m\"COO\"\u001b[0m\u001b[1;33m,\u001b[0m\u001b[1;34m\"ICN\"\u001b[0m\u001b[1;33m}\u001b[0m\u001b[1;33m,\u001b[0m\u001b[1;33m{\u001b[0m\u001b[1;34m\"BOO\"\u001b[0m\u001b[1;33m,\u001b[0m\u001b[1;34m\"DOO\"\u001b[0m\u001b[1;33m}\u001b[0m\u001b[1;33m,\u001b[0m\u001b[1;33m{\u001b[0m\u001b[1;34m\"COO\"\u001b[0m\u001b[1;33m,\u001b[0m\u001b[1;34m\"ICN\"\u001b[0m\u001b[1;33m}\u001b[0m\u001b[1;33m,\u001b[0m\u001b[1;33m{\u001b[0m\u001b[1;34m\"COO\"\u001b[0m\u001b[1;33m,\u001b[0m\u001b[1;34m\"ICN\"\u001b[0m\u001b[1;33m}\u001b[0m\u001b[1;33m}\u001b[0m\u001b[1;33m)\u001b[0m\u001b[1;33m\u001b[0m\u001b[1;33m\u001b[0m\u001b[0m\n\u001b[0m\u001b[0;32m      7\u001b[0m \u001b[0ma\u001b[0m\u001b[1;33m.\u001b[0m\u001b[0msort\u001b[0m\u001b[1;33m(\u001b[0m\u001b[1;33m)\u001b[0m\u001b[1;33m\u001b[0m\u001b[1;33m\u001b[0m\u001b[0m\n",
      "\u001b[1;31mTypeError\u001b[0m: unhashable type: 'set'"
     ]
    }
   ],
   "source": [
    "#2가지 이상 경로중에 알파벳 오름차순 선택(모든 공항 통과)\n",
    "#{{ICN, COO},{ICN, BOO}, {COO, ICN}, {BOO, DOO}, {COO, ICN}, {COO, ICN}}\n",
    "#solution([[\"ICN\",\"COO\"],[\"ICN\",\"BOO\"],[\"COO\",\"ICN\"],[\"BOO\",\"DOO\"],[\"COO\",\"ICN\"],[\"COO\",\"ICN\"]])\n",
    "#{ICN , COO , ICN ,BOO ,DOO } -> 알파벳 오름차순에서 후순위지만 모든 공황 통과 라서 선택됨\n",
    "#{ICN , BOO , DOO } -> 알파벳 오름차순에서 B00 가 있어 이게 선택되어야 하지만 모든 공항을 거치지 않아서 탈\n",
    "a=set({{\"ICN\",\"COO\"},{\"ICN\",\"BOO\"},{\"COO\",\"ICN\"},{\"BOO\",\"DOO\"},{\"COO\",\"ICN\"},{\"COO\",\"ICN\"}})\n",
    "a.sort()"
   ]
  },
  {
   "cell_type": "code",
   "execution_count": 69,
   "metadata": {},
   "outputs": [],
   "source": [
    "# 여행경로\n",
    "from copy import deepcopy as dc\n",
    "\n",
    "def search_city(tic_dict, b, n, city_stack):\n",
    "    if b in tic_dict:\n",
    "        tic_dict[b][n] -= 1\n",
    "    city_stack.append(n)\n",
    "    if n not in tic_dict:\n",
    "        result.append(city_stack)\n",
    "        return\n",
    "    flag = True\n",
    "    for next_n in tic_dict[n].keys():\n",
    "        if tic_dict[n][next_n] != 0:\n",
    "            flag = False\n",
    "            search_city(dc(tic_dict), n, next_n, dc(city_stack))\n",
    "    if flag:\n",
    "        result.append(city_stack)\n",
    "\n",
    "result = []\n",
    "def solution(tickets):\n",
    "    answer = []\n",
    "    tic_dict = dict()\n",
    "    for tic in tickets:\n",
    "        if tic[0] not in tic_dict:\n",
    "            tic_dict[tic[0]] = dict()\n",
    "        if tic[1] not in tic_dict[tic[0]]:\n",
    "            tic_dict[tic[0]][tic[1]] = 1 # city(key) count\n",
    "        else:\n",
    "            tic_dict[tic[0]][tic[1]] += 1\n",
    "    \n",
    "    search_city(tic_dict, \"\",\"ICN\",[])\n",
    "    result.sort()\n",
    "    for re in result:\n",
    "        print(result)\n",
    "        if len(re) == len(tickets)+1:\n",
    "            \n",
    "            return re"
   ]
  },
  {
   "cell_type": "code",
   "execution_count": 70,
   "metadata": {},
   "outputs": [
    {
     "name": "stdout",
     "output_type": "stream",
     "text": [
      "[['ICN', 'BOO', 'DOO'], ['ICN', 'COO', 'ICN', 'BOO', 'DOO']]\n",
      "[['ICN', 'BOO', 'DOO'], ['ICN', 'COO', 'ICN', 'BOO', 'DOO']]\n",
      "None\n"
     ]
    }
   ],
   "source": [
    "#2가지 이상 경로중에 알파벳 오름차순 선택(모든 공항 통과)\n",
    "#{{ICN, COO},{ICN, BOO}, {COO, ICN}, {BOO, DOO}, {COO, ICN}, {COO, ICN}}\n",
    "print(solution([[\"ICN\",\"COO\"],[\"ICN\",\"BOO\"],[\"COO\",\"ICN\"],[\"BOO\",\"DOO\"],[\"COO\",\"ICN\"],[\"COO\",\"ICN\"]]))\n",
    "#{ICN , COO , ICN ,BOO ,DOO } -> 알파벳 오름차순에서 후순위지만 모든 공황 통과 라서 선택됨\n",
    "#{ICN , BOO , DOO } -> 알파벳 오름차순에서 B00 가 있어 이게 선택되어야 하지만 모든 공항을 거치지 않아서 탈\n"
   ]
  },
  {
   "cell_type": "code",
   "execution_count": null,
   "metadata": {},
   "outputs": [],
   "source": []
  }
 ],
 "metadata": {
  "kernelspec": {
   "display_name": "Python 3",
   "language": "python",
   "name": "python3"
  },
  "language_info": {
   "codemirror_mode": {
    "name": "ipython",
    "version": 3
   },
   "file_extension": ".py",
   "mimetype": "text/x-python",
   "name": "python",
   "nbconvert_exporter": "python",
   "pygments_lexer": "ipython3",
   "version": "3.7.4"
  }
 },
 "nbformat": 4,
 "nbformat_minor": 2
}
